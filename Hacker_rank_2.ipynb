{
 "cells": [
  {
   "cell_type": "markdown",
   "metadata": {},
   "source": [
    "# Primero"
   ]
  },
  {
   "cell_type": "code",
   "execution_count": 34,
   "metadata": {},
   "outputs": [
    {
     "name": "stdout",
     "output_type": "stream",
     "text": [
      "70\n"
     ]
    }
   ],
   "source": [
    "from collections import Counter\n",
    "\n",
    "profit = 0\n",
    "stock_shoes = int(input())\n",
    "size_stockShoes = Counter([int(new_stock) for new_stock in input().split()]) \n",
    "\n",
    "costumers = int(input())\n",
    "\n",
    "for shoe_purchase in range(costumers):\n",
    "    size_asked, price = [int(new_stock) for new_stock in input().split()]\n",
    "    if size_stockShoes[size_asked]:\n",
    "        profit += price\n",
    "        size_stockShoes[size_asked] -= 1\n",
    "    else:\n",
    "        pass\n",
    "\n",
    "print(profit)"
   ]
  },
  {
   "cell_type": "code",
   "execution_count": 32,
   "metadata": {},
   "outputs": [
    {
     "name": "stdout",
     "output_type": "stream",
     "text": [
      "dict_items([(1, 2), (5, 3)])\n"
     ]
    }
   ],
   "source": [
    "dic = {1:3, 5:3}\n",
    "dic[1] -= 1\n",
    "print(dic.items()) "
   ]
  },
  {
   "cell_type": "code",
   "execution_count": null,
   "metadata": {},
   "outputs": [],
   "source": []
  }
 ],
 "metadata": {
  "kernelspec": {
   "display_name": "Python 3.9.13 ('base')",
   "language": "python",
   "name": "python3"
  },
  "language_info": {
   "codemirror_mode": {
    "name": "ipython",
    "version": 3
   },
   "file_extension": ".py",
   "mimetype": "text/x-python",
   "name": "python",
   "nbconvert_exporter": "python",
   "pygments_lexer": "ipython3",
   "version": "3.9.13"
  },
  "orig_nbformat": 4,
  "vscode": {
   "interpreter": {
    "hash": "2fffb9416fef0f14d8c3180827823918a8a81fff6ed4e50b546e97970237eb04"
   }
  }
 },
 "nbformat": 4,
 "nbformat_minor": 2
}
