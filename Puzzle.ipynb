{
 "cells": [
  {
   "cell_type": "code",
   "execution_count": 2,
   "metadata": {},
   "outputs": [],
   "source": [
    "import os\n",
    "import shutil #move files to different locations\n",
    "import re #search patterns\n",
    "from re import search"
   ]
  },
  {
   "cell_type": "code",
   "execution_count": 3,
   "metadata": {},
   "outputs": [
    {
     "data": {
      "text/plain": [
       "'c:\\\\Users\\\\USER\\\\Documents\\\\Trabajo\\\\1. Python bootcamp'"
      ]
     },
     "execution_count": 3,
     "metadata": {},
     "output_type": "execute_result"
    }
   ],
   "source": [
    "os.getcwd()"
   ]
  },
  {
   "cell_type": "code",
   "execution_count": 16,
   "metadata": {},
   "outputs": [
    {
     "data": {
      "text/plain": [
       "'C:\\\\Users\\\\USER\\\\Documents\\\\Trabajo\\\\1. Python bootcamp\\\\Complete-Python-3-Bootcamp-master\\\\12-Advanced Python Modules\\\\08-Advanced-Python-Module-Exercise\\\\unzip_me_for_instructions\\\\extracted_content\\\\Instructions.txt'"
      ]
     },
     "execution_count": 16,
     "metadata": {},
     "output_type": "execute_result"
    }
   ],
   "source": [
    "def get_files():\n",
    "\n",
    "    search_path = 'C:\\\\Users\\\\USER\\Documents\\\\Trabajo\\\\1. Python bootcamp\\\\Complete-Python-3-Bootcamp-master\\\\12-Advanced Python Modules\\\\08-Advanced-Python-Module-Exercise\\\\unzip_me_for_instructions\\\\extracted_content'\n",
    "\n",
    "    for folder , sub_folders , files in os.walk(search_path):\n",
    "        for f in files:\n",
    "            open_file = folder + \"\\\\\" + f\n",
    "            return open_file\n",
    "        \n",
    "\n",
    "get_files()"
   ]
  },
  {
   "cell_type": "code",
   "execution_count": 8,
   "metadata": {},
   "outputs": [],
   "source": [
    "def search_patterns(file, pattern):\n",
    "    search_storage = []\n",
    "    actual_search_file = open(file,'r')\n",
    "    text = actual_search_file.read()\n",
    "    \n",
    "    if re.search(pattern,text):\n",
    "        save_search = re.search(pattern,text)\n",
    "        search_storage.append(save_search)\n",
    "        return search_storage\n",
    "    else:\n",
    "        pass\n"
   ]
  },
  {
   "cell_type": "code",
   "execution_count": 11,
   "metadata": {},
   "outputs": [
    {
     "name": "stdout",
     "output_type": "stream",
     "text": [
      "C:\\Users\\USER\\Documents\\Trabajo\\1. Python bootcamp\\Complete-Python-3-Bootcamp-master\\12-Advanced Python Modules\\08-Advanced-Python-Module-Exercise\\unzip_me_for_instructions\\extracted_content\\Instructions.txt\n"
     ]
    }
   ],
   "source": [
    "search_file = get_files()\n",
    "pattern_search = r'\\d{3}-\\d{3}-\\d{4}'\n",
    "inf = search_patterns(search_file, pattern_search)\n",
    "print(search_file)"
   ]
  },
  {
   "cell_type": "code",
   "execution_count": null,
   "metadata": {},
   "outputs": [],
   "source": []
  }
 ],
 "metadata": {
  "kernelspec": {
   "display_name": "Python 3.9.13 ('base')",
   "language": "python",
   "name": "python3"
  },
  "language_info": {
   "codemirror_mode": {
    "name": "ipython",
    "version": 3
   },
   "file_extension": ".py",
   "mimetype": "text/x-python",
   "name": "python",
   "nbconvert_exporter": "python",
   "pygments_lexer": "ipython3",
   "version": "3.9.13"
  },
  "orig_nbformat": 4,
  "vscode": {
   "interpreter": {
    "hash": "2fffb9416fef0f14d8c3180827823918a8a81fff6ed4e50b546e97970237eb04"
   }
  }
 },
 "nbformat": 4,
 "nbformat_minor": 2
}
