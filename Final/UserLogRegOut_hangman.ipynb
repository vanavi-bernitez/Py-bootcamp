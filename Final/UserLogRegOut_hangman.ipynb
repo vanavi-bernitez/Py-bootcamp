{
 "cells": [
  {
   "cell_type": "code",
   "execution_count": 14,
   "metadata": {},
   "outputs": [],
   "source": [
    "import random\n",
    "from IPython.display import clear_output\n",
    "import csv\n",
    "import getpass"
   ]
  },
  {
   "cell_type": "markdown",
   "metadata": {},
   "source": [
    "## Hangman game section"
   ]
  },
  {
   "cell_type": "code",
   "execution_count": 15,
   "metadata": {},
   "outputs": [],
   "source": [
    "def word_generator():\n",
    "    words = [\"zapato\", \"lagarto\", \"mochila\", \"murcielago\", \"kayak\"]\n",
    "    random_word = random.choice(words)\n",
    "    return random_word"
   ]
  },
  {
   "cell_type": "code",
   "execution_count": 21,
   "metadata": {},
   "outputs": [],
   "source": [
    "def hangman_game():\n",
    "\n",
    "    random_word = word_generator()\n",
    "    print(random_word)\n",
    "    lives = 3\n",
    "    game_on = True\n",
    "    word_guess = [\"_ \"] * len(random_word) \n",
    "    print(\"Hangman Game!\")\n",
    "\n",
    "    while game_on:\n",
    "  \n",
    "        user_guess = str(input(\"Enter a letter to play or <pop> to quit: \")).lower()\n",
    "        clear_output()\n",
    "\n",
    "        if user_guess == \"pop\":\n",
    "            game_on = False\n",
    "            break\n",
    "\n",
    "        elif user_guess in random_word and user_guess not in \"\".join(word_guess):\n",
    "            for location in range(0, len(random_word)):\n",
    "                if random_word[location] == user_guess:\n",
    "                    word_guess[location] = user_guess\n",
    "            \n",
    "            if random_word == \"\".join(word_guess):\n",
    "                print(\"Good job. You've won\")\n",
    "                game_on = False\n",
    "                break\n",
    "\n",
    "            print(word_guess)\n",
    "                    \n",
    "        elif user_guess in \"\".join(word_guess):\n",
    "            print(\"Already taken. Try again\")\n",
    "            print(word_guess)\n",
    "\n",
    "        else:\n",
    "            lives -= 1\n",
    "            print(f\"Wrong answer. {lives} more lives\")\n",
    "\n",
    "        game_on = False if lives <= 0 else True\n",
    "\n",
    "    "
   ]
  },
  {
   "cell_type": "markdown",
   "metadata": {},
   "source": [
    "## User login/register section"
   ]
  },
  {
   "cell_type": "code",
   "execution_count": 17,
   "metadata": {},
   "outputs": [],
   "source": [
    "path = 'c:\\\\Users\\\\USER\\\\Documents\\\\Trabajo\\\\1. Python bootcamp\\\\Final\\\\'"
   ]
  },
  {
   "cell_type": "code",
   "execution_count": 18,
   "metadata": {},
   "outputs": [],
   "source": [
    "def register_user():\n",
    "    \n",
    "    user_id = input(\"Please enter your ID number: \")\n",
    "\n",
    "    if user_id.isalpha() == True:\n",
    "        print(\"Your ID must contain only numbers.\")\n",
    "\n",
    "    else:\n",
    "        user_name = input(\"Enter your name: \")\n",
    "        password = input(\"Enter a new alphanumeric password: \")\n",
    "        password_confirm = input(\"Confirm your alphanumeric password: \")\n",
    "\n",
    "        if password.isalnum() == True and password == password_confirm:\n",
    "            users_file_reg = open(path + 'users.csv', 'a', newline='')\n",
    "            csv_writer = csv.writer(users_file_reg,delimiter=',')\n",
    "            csv_writer.writerow([user_id, user_name, password])\n",
    "            users_file_reg.close()\n",
    "            \n",
    "            # return False CHECK\n",
    "\n",
    "        else:\n",
    "            print(\"Your PASSWORD must be alphanumeric.\")\n",
    "\n",
    "            #try except could be better\n"
   ]
  },
  {
   "cell_type": "code",
   "execution_count": null,
   "metadata": {},
   "outputs": [],
   "source": [
    "#fuction for read csv and write csv"
   ]
  },
  {
   "cell_type": "code",
   "execution_count": 19,
   "metadata": {},
   "outputs": [],
   "source": [
    "def login_user():\n",
    "\n",
    "    user_id = input(\"Please enter your ID: \")\n",
    "    password = getpass.getpass(prompt=\"Enter your password: \")\n",
    "\n",
    "    users_file_log = open(path + 'users.csv', encoding=\"utf-8\")\n",
    "    csv_reader = csv.DictReader(users_file_log)\n",
    " \n",
    "    for row in csv_reader:\n",
    "        if row[\"_ID\"] == user_id and row[\"_PASSWORD\"] == password:\n",
    "            user_name = row[\"_NAME\"]\n",
    "            print(\"Welcome {}\".format(user_name))\n",
    "            \n",
    "            # return True   CHECK\n",
    "\n",
    "        else:\n",
    "            print(\"User or password incorrect\")\n",
    "            "
   ]
  },
  {
   "cell_type": "markdown",
   "metadata": {},
   "source": [
    "## Main"
   ]
  },
  {
   "cell_type": "code",
   "execution_count": 25,
   "metadata": {},
   "outputs": [],
   "source": [
    "main_active = True\n",
    "user_login = False\n",
    "\n",
    "while main_active:\n",
    "\n",
    "    if user_login == True:\n",
    "        login_action = input(\"p-Play \\n lo-Logout \\n q-Quit\").lower()\n",
    "        if login_action == \"p\":\n",
    "            hangman_game()\n",
    "            user_login = True\n",
    "\n",
    "        elif login_action == \"lo\":\n",
    "            user_login = False\n",
    "\n",
    "        elif login_action == \"q\":\n",
    "            main_active = False\n",
    "            break\n",
    "\n",
    "        else:\n",
    "            print(\"Select other option\")\n",
    "\n",
    "    else:\n",
    "        general_action = input(\"r-Register \\n li-Login \\n q-Quit\").lower()\n",
    "        if general_action == \"r\":\n",
    "            register_user()\n",
    "            user_login = False\n",
    "        \n",
    "        elif general_action == \"li\":\n",
    "            login_user()\n",
    "            user_login = True\n",
    "\n",
    "        elif general_action == \"q\":\n",
    "            main_active = False\n",
    "            break\n",
    "\n",
    "        else:\n",
    "            print(\"Select other option\")\n",
    "        \n",
    "    "
   ]
  }
 ],
 "metadata": {
  "kernelspec": {
   "display_name": "Python 3.9.13 ('base')",
   "language": "python",
   "name": "python3"
  },
  "language_info": {
   "codemirror_mode": {
    "name": "ipython",
    "version": 3
   },
   "file_extension": ".py",
   "mimetype": "text/x-python",
   "name": "python",
   "nbconvert_exporter": "python",
   "pygments_lexer": "ipython3",
   "version": "3.9.13"
  },
  "orig_nbformat": 4,
  "vscode": {
   "interpreter": {
    "hash": "2fffb9416fef0f14d8c3180827823918a8a81fff6ed4e50b546e97970237eb04"
   }
  }
 },
 "nbformat": 4,
 "nbformat_minor": 2
}
