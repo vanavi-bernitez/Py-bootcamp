{
 "cells": [
  {
   "cell_type": "code",
   "execution_count": 5,
   "metadata": {},
   "outputs": [
    {
     "name": "stdout",
     "output_type": "stream",
     "text": [
      "Say hi mammal\n"
     ]
    }
   ],
   "source": [
    "class Dogs():\n",
    "    specie = \"mammal\"\n",
    "\n",
    "    \"\"\"Estos son los atributos que puedo utilizar por todos los métodos\n",
    "    y son particulares de la instancia\n",
    "    \"\"\"\n",
    "    def __init__(self, name, paws):\n",
    "\n",
    "        self.name = name\n",
    "        self.paws = paws\n",
    "\n",
    "    \"\"\"Every attribute from i'm gonna use in here, needs to be called using <self>\n",
    "    doesn't matter if is a class object attribute or an instance attribute \n",
    "    BUT!!!! Si tengo un atributo declarado en este método. SOLO LO PUEDO USAR\n",
    "    EN ESTE MÉTODO y no necesita <self>\n",
    "    \"\"\"\n",
    "    def sayhi(self, number):\n",
    "        print(f\"Say hi {self.specie}, with number: {number}\") #como number no \n",
    "\n",
    "dog1 = Dogs(\"Firu\", True)\n",
    "\n",
    "dog1.sayhi()"
   ]
  },
  {
   "cell_type": "code",
   "execution_count": null,
   "metadata": {},
   "outputs": [],
   "source": [
    "\"\"\"INHERITANCE\"\"\"\n"
   ]
  }
 ],
 "metadata": {
  "kernelspec": {
   "display_name": "Python 3.9.13 ('base')",
   "language": "python",
   "name": "python3"
  },
  "language_info": {
   "codemirror_mode": {
    "name": "ipython",
    "version": 3
   },
   "file_extension": ".py",
   "mimetype": "text/x-python",
   "name": "python",
   "nbconvert_exporter": "python",
   "pygments_lexer": "ipython3",
   "version": "3.9.13"
  },
  "orig_nbformat": 4,
  "vscode": {
   "interpreter": {
    "hash": "2fffb9416fef0f14d8c3180827823918a8a81fff6ed4e50b546e97970237eb04"
   }
  }
 },
 "nbformat": 4,
 "nbformat_minor": 2
}
