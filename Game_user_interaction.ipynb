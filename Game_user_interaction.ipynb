{
 "cells": [
  {
   "cell_type": "code",
   "execution_count": 4,
   "metadata": {},
   "outputs": [],
   "source": [
    "#Clean input shell\n",
    "from IPython.display import clear_output\n",
    "clear_output()"
   ]
  },
  {
   "cell_type": "code",
   "execution_count": 5,
   "metadata": {},
   "outputs": [],
   "source": [
    "lst = [1,2,3]"
   ]
  },
  {
   "cell_type": "code",
   "execution_count": 6,
   "metadata": {},
   "outputs": [],
   "source": [
    "#Show initial list\n",
    "def show_lst(lst):\n",
    "    print(f\"Current list:  {lst}\")\n",
    "\n",
    "# show_lst(lst)"
   ]
  },
  {
   "cell_type": "code",
   "execution_count": 7,
   "metadata": {},
   "outputs": [],
   "source": [
    "#Guarantee valid user input\n",
    "def lst_pick_location():\n",
    "    #Something diff from 1, 2, 3 to start while loop\n",
    "    usr_in1 = 0\n",
    "\n",
    "    while usr_in1 not in [1,2,3]:\n",
    "        #Ojo, si el usuario ingresa una letra va a salir error, porque intenta convertir una letra a número\n",
    "        usr_in1 = int(input(\"Pick one of the next numbers [1,2,3]: \"))\n",
    "        \n",
    "        if usr_in1 not in [1,2,3]:  \n",
    "            print(\"Please, pick a value between [1,2,3]: \")\n",
    "            \n",
    "    clear_output()\n",
    "    #Por eso ponen el int acá y todo antes se manipula como str.\n",
    "    return usr_in1\n",
    " \n",
    "# usr_in1 = lst_pick_location()"
   ]
  },
  {
   "cell_type": "code",
   "execution_count": 8,
   "metadata": {},
   "outputs": [],
   "source": [
    "#Change list for users 2nd input\n",
    "def change_lst_value(lst, usr_in1):\n",
    "\n",
    "    usr_in2 = input(f\"Type something to change in {usr_in1} position:\")\n",
    "\n",
    "    lst[usr_in1-1] = usr_in2\n",
    "\n",
    "    return lst\n",
    "\n",
    "# change_lst_value(lst, usr_in1)"
   ]
  },
  {
   "cell_type": "code",
   "execution_count": 14,
   "metadata": {},
   "outputs": [
    {
     "data": {
      "text/plain": [
       "False"
      ]
     },
     "execution_count": 14,
     "metadata": {},
     "output_type": "execute_result"
    }
   ],
   "source": [
    "#Ask if wanna play again \n",
    "def keep_playing():\n",
    "    #Something diff from y or n to start while loop\n",
    "    usr_in3 = \" \"\n",
    "\n",
    "    while usr_in3 not in [\"y\",\"Y\",\"n\",\"N\"]:\n",
    "        \n",
    "        usr_in3 = input(\"Wanna play again? Y or N: \")\n",
    "        \n",
    "        if usr_in3 not in [\"y\",\"Y\",\"n\",\"N\"]:  \n",
    "            print(\"Please, use Y or N letters: \")\n",
    "            \n",
    "    clear_output()\n",
    "    \n",
    "    if usr_in3 == \"Y\" or usr_in3 == \"y\":\n",
    "        return True\n",
    "    \n",
    "    else:\n",
    "        return False\n",
    "    \n",
    "# keep_playing()     "
   ]
  },
  {
   "cell_type": "code",
   "execution_count": 15,
   "metadata": {},
   "outputs": [],
   "source": [
    "#All functions unified\n",
    "lst = [1,2,3]\n",
    "game_on = True\n",
    "\n",
    "while game_on:\n",
    "    #Clean everything that happened before\n",
    "    clear_output()\n",
    "    \n",
    "    show_lst(lst)\n",
    "    usr_in1 = lst_pick_location()\n",
    "    lst = change_lst_value(lst, usr_in1)\n",
    "    show_lst(lst)\n",
    "    clear_output()\n",
    "    game_on = keep_playing()"
   ]
  }
 ],
 "metadata": {
  "kernelspec": {
   "display_name": "Python 3.9.13 ('base')",
   "language": "python",
   "name": "python3"
  },
  "language_info": {
   "codemirror_mode": {
    "name": "ipython",
    "version": 3
   },
   "file_extension": ".py",
   "mimetype": "text/x-python",
   "name": "python",
   "nbconvert_exporter": "python",
   "pygments_lexer": "ipython3",
   "version": "3.9.13"
  },
  "orig_nbformat": 4,
  "vscode": {
   "interpreter": {
    "hash": "2fffb9416fef0f14d8c3180827823918a8a81fff6ed4e50b546e97970237eb04"
   }
  }
 },
 "nbformat": 4,
 "nbformat_minor": 2
}
