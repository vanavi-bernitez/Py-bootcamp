{
 "cells": [
  {
   "cell_type": "markdown",
   "metadata": {},
   "source": [
    "A Foolish Consistency is the Hobgoblin of Little Minds\n",
    "code is read much more often than it is written\n",
    "\n",
    "Python uses dynamic typing: reassign variables to different data types \n"
   ]
  },
  {
   "cell_type": "code",
   "execution_count": null,
   "metadata": {},
   "outputs": [],
   "source": [
    "\"\"\"Reassigning variables\"\"\"\n",
    "a = 0\n",
    "#You only know the counter inside for\n",
    "a += 10\n",
    "\n",
    "#But there's others\n",
    "a -= 10\n",
    "a *= 10\n",
    "a /= 10"
   ]
  },
  {
   "cell_type": "code",
   "execution_count": 2,
   "metadata": {},
   "outputs": [
    {
     "data": {
      "text/plain": [
       "'Insert another string with curly brackets: The inserted string'"
      ]
     },
     "execution_count": 2,
     "metadata": {},
     "output_type": "execute_result"
    }
   ],
   "source": [
    "s = \"Hello world\"\n",
    "\n",
    "\"\"\"Check the lenght of a string, including spaces and punctuation\"\"\"\n",
    "len(s)\n",
    "\n",
    "\"\"\"String indexing: takes just the value [n] in the string array\"\"\"\n",
    "s[0]    \n",
    "s[-1]       #going backwards            \n",
    "\"\"\"s[0] = 'x'   we can not change the item assigment. \n",
    "Can not change specifics values from STRINGS arrays (this just for strings).\n",
    "Strings aren't mutables\n",
    "\"\"\"\n",
    "\n",
    "\"\"\"String slicing: grabs everything up to a designated point\"\"\"\n",
    "s[1:3]      #[start,finish-1]\n",
    "s[:]        #everything\n",
    "s[:-1]      #everything but the last letter\n",
    "\n",
    "\"\"\"Indexing + slicing \"\"\"\n",
    "s[2:7:1]    #[start,finish-1,steps]\n",
    "\n",
    "\"\"\"Upper case a string\"\"\"\n",
    "s.upper()\n",
    "\n",
    "\"\"\"Lower case a string\"\"\"\n",
    "s.lower()\n",
    "\n",
    "\"\"\"Split a string\"\"\"\n",
    "s.split()   #.split(condition to makes the split)\n",
    "\n",
    "\n",
    "\n"
   ]
  },
  {
   "cell_type": "code",
   "execution_count": 9,
   "metadata": {},
   "outputs": [
    {
     "name": "stdout",
     "output_type": "stream",
     "text": [
      "Last night, Messi scored 76 points.\n",
      "A penny saved is a penny earned.\n",
      "A penny saved is a penny earned.\n",
      "A penny saved is a penny earned.\n"
     ]
    }
   ],
   "source": [
    "\"\"\"String formatting methods \"\"\"\n",
    "\n",
    "player = \"Messi\"\n",
    "points = 76\n",
    "money = \"penny\"\n",
    "print('Last night, '+player+' scored '+str(points)+' points.')  #concatenate\n",
    "\n",
    "print('A %s saved is a %s earned.' %('penny','penny'))          #placeholders\n",
    "\n",
    "print('A {p} saved is a {p} earned.'.format(p=money))           #.format The best. 03-Print Formatting with Strings\n",
    "\n",
    "print(f\"A {money} saved is a {money} earned.\")                  #f-string is a python 3.6 variation of .format method"
   ]
  },
  {
   "cell_type": "code",
   "execution_count": 8,
   "metadata": {},
   "outputs": [
    {
     "name": "stdout",
     "output_type": "stream",
     "text": [
      "Using placeholders: 13.14\n",
      "Using .format: 13\n",
      "Using .format: 13.14400\n"
     ]
    }
   ],
   "source": [
    "\"\"\"Padding and Precision of Floating Point Numbers\n",
    "width: minimum number of characters the string should contain\n",
    "precision: how many numbers to show past the decimal point\n",
    "\"\"\"\n",
    "\n",
    "x = 13.144\n",
    "print('Using placeholders: %5.2f' %(x))         #width.precisionf\n",
    "print(\"Using .format: {r:1.0f}\".format(r=x))    #value:width.precisionf \n",
    "print(f\"Using .format: {x:1.5f}\")               #replace the .format using letter <f> in front of the string\n",
    "                                                "
   ]
  },
  {
   "cell_type": "code",
   "execution_count": 24,
   "metadata": {},
   "outputs": [
    {
     "name": "stdout",
     "output_type": "stream",
     "text": [
      "2\n",
      "[3, 6, 9]\n"
     ]
    }
   ],
   "source": [
    "\"\"\"Lists []:\n",
    "we can index, and slice in here AND main difference with strings: lists are mutables\n",
    "\"\"\"\n",
    "\n",
    "first_list = [\"one\", \"two\", \"number\", \"four\"]\n",
    "second_list = [5,8,9,4,1,3]\n",
    "\n",
    "first_list[2] = \"three\"\n",
    "print(first_list)\n",
    "\n",
    "first_list.append(5)    #this method allows to put a new item at the end \n",
    "\n",
    "first_list.pop(-2)      #pop off the index position using normal or reverse indexing. \n",
    "                        #If it's blank space means that we remove the last item\n",
    "print(first_list)\n",
    "\n",
    "first_list.remove(\"one\")    #.remove delete values from list using value, .pop delete using an index\n",
    "print(first_list)\n",
    "\n",
    "print(sorted(second_list))     #organice the items in place.  \n",
    "second_list.sorted()          #error: 'list' object has no attribute 'sorted'\n",
    "\n",
    "second_list.sort()\n",
    "sorted_list = second_list            #returns the new list organiced\n",
    "sorted_list = second_list.sort()    #returns NoneType object\n",
    "\n",
    "\"\"\"sort() != sorted()\n",
    "only works with lists  != tuples, lists, sets, diccionaries \n",
    "affects the list permanently  != doesn't \n",
    "\"\"\"\n",
    "\n",
    "second_list.reverse()       #reverse everything in my list\n",
    "\n",
    "\"\"\"Nested list: \n",
    "Data structures within data structures. i.e. list inside a list\n",
    "\"\"\"\n",
    "\n",
    "lst_1=[1,2,3]\n",
    "lst_2=[4,5,6]\n",
    "lst_3=[7,8,9]\n",
    "\n",
    "matrix = [lst_1,lst_2,lst_3]\n",
    "\n",
    "print(matrix[0][1])                     #grab first item from matrix and then, grab the second item from lst_1\n",
    "\n",
    "first_col = [row[2] for row in matrix]  #list comprehensions\n",
    "print(first_col)                        #takes in matrix, all the values in the position [2]"
   ]
  },
  {
   "cell_type": "code",
   "execution_count": 38,
   "metadata": {},
   "outputs": [
    {
     "data": {
      "text/plain": [
       "2"
      ]
     },
     "execution_count": 38,
     "metadata": {},
     "output_type": "execute_result"
    }
   ],
   "source": [
    "\"\"\"Tuples ():\n",
    "Very similar to lists, but tuples are INMUTABLES,\n",
    "use tuples to present things that shouldn't be changed, \n",
    "such as days of the week, or dates on a calendar \n",
    "\"\"\"\n",
    "t = ('one',2,2,\"three\",5,5)\n",
    "\n",
    "t.index('three')  #enter a value and return the index of it\n",
    "t.count(5)        #count the number of times a value appears\n"
   ]
  },
  {
   "cell_type": "code",
   "execution_count": 35,
   "metadata": {},
   "outputs": [
    {
     "data": {
      "text/plain": [
       "{'item0': 'adios'}"
      ]
     },
     "execution_count": 35,
     "metadata": {},
     "output_type": "execute_result"
    }
   ],
   "source": [
    "\"\"\"Dictionaries  {}:\n",
    "Are unordered and can't be sorted  (from Python 3.7, insertion order of Python dictionaries is guaranteed)\n",
    "\"\"\"\n",
    "\n",
    "my_dict = {'key1':123,'key2':[12,23,33],'key3':[{'item0':\"hola\"},'item1','item2']}\n",
    "\n",
    "my_dict['key3'][0]['item0'][1]  #locate ou letter inside the dictionary\n",
    "my_dict['key3'][0]['item0'] = \"adios\"  #mutate value \n",
    "\n",
    "my_dict.keys()      #returns dictionary keys\n",
    "my_dict.values()    #returns dictionary values\n",
    "my_dict.items()     #returns all\n"
   ]
  },
  {
   "cell_type": "code",
   "execution_count": 13,
   "metadata": {},
   "outputs": [
    {
     "data": {
      "text/plain": [
       "[6, 7, 8]"
      ]
     },
     "execution_count": 13,
     "metadata": {},
     "output_type": "execute_result"
    }
   ],
   "source": [
    "my_inf = [(1,2,3),(3,4,5),(4,5,6),(6,7,8)]\n",
    "\n",
    "for a,b,c in my_inf:\n",
    "    print(a, b, c)\n",
    "\n"
   ]
  },
  {
   "cell_type": "code",
   "execution_count": 10,
   "metadata": {},
   "outputs": [
    {
     "name": "stdout",
     "output_type": "stream",
     "text": [
      "1\n",
      "hola\n",
      "4.5\n"
     ]
    }
   ],
   "source": [
    "d = {\"k1\": 1, \"k2\": \"hola\", \"k3\": 4.5}\n",
    "\n",
    "#this way only return the keys\n",
    "# for items in d:\n",
    "#     print (items)\n",
    "\n",
    "#if i want the keys and de values, move over d.items(), remember it return all.\n",
    "for keys, values in d.items():\n",
    "    print (values)\n",
    "    # print (keys, values)"
   ]
  },
  {
   "cell_type": "code",
   "execution_count": 23,
   "metadata": {},
   "outputs": [
    {
     "data": {
      "text/plain": [
       "[2, 4, 6, 8]"
      ]
     },
     "execution_count": 23,
     "metadata": {},
     "output_type": "execute_result"
    }
   ],
   "source": [
    "def even_numbers(lst):\n",
    "\n",
    "    even_lst = []\n",
    "\n",
    "    for num_lst in lst:\n",
    "        if num_lst % 2 == 0:\n",
    "            even_lst.append(num_lst)\n",
    "            \n",
    "        else:\n",
    "            pass\n",
    "    \n",
    "    return even_lst\n",
    "\n",
    "even_numbers([1,2,3,4,5,6,7,8])\n"
   ]
  },
  {
   "cell_type": "code",
   "execution_count": null,
   "metadata": {},
   "outputs": [],
   "source": [
    "\"\"\" *args : users can pass in as many arguments as they want \n",
    "and is going to be treated as a tuple inside the function.\n",
    "args is an arbitraty word, the important is <*>\n",
    "\"\"\"\n",
    "def func_name(*args):    \n",
    "    print(args)\n",
    "\n",
    "#func_name(1,2,3,4,...,n) "
   ]
  },
  {
   "cell_type": "code",
   "execution_count": null,
   "metadata": {},
   "outputs": [],
   "source": [
    "\"\"\" **kwargs : key word arguments returned back a dictionary \n",
    "kwargs is an arbitrary choice too\n",
    "\"\"\"\n",
    "def func_kw(**kwargs):\n",
    "    return kwargs\n",
    "\n",
    "func_kw(fruit = \"apple\", veggie = \"tomatoe\", carbs = \"rice\")\n"
   ]
  },
  {
   "cell_type": "code",
   "execution_count": null,
   "metadata": {},
   "outputs": [],
   "source": [
    "\"\"\" And i can combine both \"\"\"\n",
    "def combine_args(*args, **kwargs):\n",
    "    print (\"{} {}\".format(args[0], kwargs[\"key1\"]))\n",
    "\n",
    "combine_args(1,2,3,4,6,33, key1 = \"blue\", key2 = \"azul\")"
   ]
  },
  {
   "cell_type": "code",
   "execution_count": 13,
   "metadata": {},
   "outputs": [
    {
     "data": {
      "text/plain": [
       "[2, 4, 6, 8]"
      ]
     },
     "execution_count": 13,
     "metadata": {},
     "output_type": "execute_result"
    }
   ],
   "source": [
    "def myfunc(*numbers):\n",
    "    even_lst = [x for x in numbers if x % 2 == 0]\n",
    "    return even_lst\n",
    "\n",
    "myfunc(1,2,3,4,5,6,7,8)"
   ]
  },
  {
   "cell_type": "code",
   "execution_count": 33,
   "metadata": {},
   "outputs": [
    {
     "data": {
      "text/plain": [
       "'aNtHrOpOmOrPhIsM'"
      ]
     },
     "execution_count": 33,
     "metadata": {},
     "output_type": "execute_result"
    }
   ],
   "source": [
    "def myfunc(att_str):\n",
    "    letter_count = 0\n",
    "    word = \"\"\n",
    "    for letter in att_str:\n",
    "        letter_count += 1\n",
    "\n",
    "        if letter_count % 2 == 0:\n",
    "            x = letter.upper()\n",
    "        else:\n",
    "            x = letter.lower()\n",
    "\n",
    "        word += x\n",
    "    return word\n",
    "\n",
    "\n",
    "myfunc(\"Anthropomorphism\")"
   ]
  },
  {
   "cell_type": "code",
   "execution_count": null,
   "metadata": {},
   "outputs": [],
   "source": []
  }
 ],
 "metadata": {
  "kernelspec": {
   "display_name": "Python 3 (ipykernel)",
   "language": "python",
   "name": "python3"
  },
  "language_info": {
   "codemirror_mode": {
    "name": "ipython",
    "version": 3
   },
   "file_extension": ".py",
   "mimetype": "text/x-python",
   "name": "python",
   "nbconvert_exporter": "python",
   "pygments_lexer": "ipython3",
   "version": "3.9.13"
  },
  "vscode": {
   "interpreter": {
    "hash": "2fffb9416fef0f14d8c3180827823918a8a81fff6ed4e50b546e97970237eb04"
   }
  }
 },
 "nbformat": 4,
 "nbformat_minor": 2
}
